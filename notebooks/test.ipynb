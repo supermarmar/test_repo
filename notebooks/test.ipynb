{
 "cells": [
  {
   "cell_type": "code",
   "execution_count": null,
   "metadata": {},
   "outputs": [
    {
     "name": "stderr",
     "output_type": "stream",
     "text": [
      "\u001b[32m2025-03-05 12:25:18.271\u001b[0m | \u001b[1mINFO    \u001b[0m | \u001b[36mtest_module.config\u001b[0m:\u001b[36m<module>\u001b[0m:\u001b[36m11\u001b[0m - \u001b[1mPROJ_ROOT path is: C:\\Users\\mario\\OneDrive\\Documents\\Work\\Side Hustles\\Kaggle\\test_repo\u001b[0m\n"
     ]
    }
   ],
   "source": [
    "import os\n",
    "\n",
    "import pandas as pd\n",
    "from test_module.config import (\n",
    "    DATA_DIR,\n",
    "    FIGURES_DIR,\n",
    "    MODELS_DIR,\n",
    "    PROCESSED_DATA_DIR,\n",
    "    PROJ_ROOT,\n",
    "    RAW_DATA_DIR,\n",
    "    REPORTS_DIR,\n",
    ")"
   ]
  },
  {
   "cell_type": "code",
   "execution_count": null,
   "metadata": {},
   "outputs": [],
   "source": [
    "df = pd.read_csv(os.path.join(FIGURES_DIR, \"train.csv\"))"
   ]
  },
  {
   "cell_type": "code",
   "execution_count": 5,
   "metadata": {},
   "outputs": [
    {
     "name": "stdout",
     "output_type": "stream",
     "text": [
      "C:\\Users\\mario\\OneDrive\\Documents\\Work\\Side Hustles\\Kaggle\\test_repo\\data\n",
      "C:\\Users\\mario\\OneDrive\\Documents\\Work\\Side Hustles\\Kaggle\\test_repo\\reports\\figures\n",
      "C:\\Users\\mario\\OneDrive\\Documents\\Work\\Side Hustles\\Kaggle\\test_repo\\models\n"
     ]
    }
   ],
   "source": [
    "os.chdir(DATA_DIR)\n",
    "\n",
    "print(DATA_DIR)\n",
    "print(FIGURES_DIR)\n",
    "print(MODELS_DIR)"
   ]
  }
 ],
 "metadata": {
  "kernelspec": {
   "display_name": "test-module-ly5liq6G-py3.13",
   "language": "python",
   "name": "python3"
  },
  "language_info": {
   "codemirror_mode": {
    "name": "ipython",
    "version": 3
   },
   "file_extension": ".py",
   "mimetype": "text/x-python",
   "name": "python",
   "nbconvert_exporter": "python",
   "pygments_lexer": "ipython3",
   "version": "3.13.0"
  }
 },
 "nbformat": 4,
 "nbformat_minor": 2
}
